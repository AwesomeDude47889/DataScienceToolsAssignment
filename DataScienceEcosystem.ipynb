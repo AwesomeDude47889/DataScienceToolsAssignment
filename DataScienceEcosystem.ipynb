{
 "cells": [
  {
   "cell_type": "markdown",
   "id": "869ef7b6-b822-4828-b21b-221817573ddf",
   "metadata": {},
   "source": [
    "# Data Science Tools and Ecosystems"
   ]
  },
  {
   "cell_type": "markdown",
   "id": "0cdae126-1dab-4316-a666-ed801f157163",
   "metadata": {},
   "source": [
    "## Author\n",
    "Deva"
   ]
  },
  {
   "cell_type": "markdown",
   "id": "01a8a724-7fce-469b-8ff8-75a2629d1db8",
   "metadata": {},
   "source": [
    "In this notebook, Data Science Tools and Ecosystem are summarized"
   ]
  },
  {
   "cell_type": "markdown",
   "id": "82a5d6eb-df7b-4515-aa53-1baec06cff55",
   "metadata": {},
   "source": [
    "Objectives:\n",
    "1. List popular languages for Data Science\n",
    "2. Commonly used Libraries in Data Science\n",
    "3. Open Source Data Science Tools"
   ]
  },
  {
   "cell_type": "markdown",
   "id": "4f3baa38-13e0-4df5-a0cb-e2bb87e12092",
   "metadata": {},
   "source": [
    "Some of the most popular languages that Data Scientists use are:\n",
    "1. Python\n",
    "2. R\n",
    "3. SQL"
   ]
  },
  {
   "cell_type": "markdown",
   "id": "fa16034d-2260-400d-82fa-a4148ebfc46f",
   "metadata": {},
   "source": [
    "Some of the commonly used libraries by Data Scientists include:\n",
    "1. ggplot\n",
    "2. numpy\n",
    "3. scikit-learn"
   ]
  },
  {
   "cell_type": "markdown",
   "id": "8d536088-83fc-4ea6-abb6-fc0a9448b5a0",
   "metadata": {},
   "source": [
    "|Data Science Tools|\n",
    "--------------------\n",
    "| Juypter Notebook|\n",
    "| RStudio |\n",
    "| Visual Studio Code|\n",
    "------------------"
   ]
  },
  {
   "cell_type": "markdown",
   "id": "5cb394ff-685d-4d37-8dfe-fc3d6ab296ca",
   "metadata": {},
   "source": [
    "### Below are a few examples of evaluating arithmetic expressions in Python"
   ]
  },
  {
   "cell_type": "code",
   "execution_count": 3,
   "id": "a37bad90-f200-4267-959b-fc32a3ed5572",
   "metadata": {},
   "outputs": [
    {
     "data": {
      "text/plain": [
       "17"
      ]
     },
     "execution_count": 3,
     "metadata": {},
     "output_type": "execute_result"
    }
   ],
   "source": [
    "#This a simple arithmetic expression to multiply then add integers\n",
    "(3*4)+5"
   ]
  },
  {
   "cell_type": "code",
   "execution_count": 5,
   "id": "c985bca8-0f18-477a-9f58-552981514c72",
   "metadata": {},
   "outputs": [
    {
     "data": {
      "text/plain": [
       "3.3333333333333335"
      ]
     },
     "execution_count": 5,
     "metadata": {},
     "output_type": "execute_result"
    }
   ],
   "source": [
    "#This will convert 200 minutes to hours by dividing 60\n",
    "200/60"
   ]
  },
  {
   "cell_type": "code",
   "execution_count": null,
   "id": "d58f615e-fda2-45b6-ae89-f2d3cad85dc4",
   "metadata": {},
   "outputs": [],
   "source": []
  }
 ],
 "metadata": {
  "kernelspec": {
   "display_name": "Python 3 (ipykernel)",
   "language": "python",
   "name": "python3"
  },
  "language_info": {
   "codemirror_mode": {
    "name": "ipython",
    "version": 3
   },
   "file_extension": ".py",
   "mimetype": "text/x-python",
   "name": "python",
   "nbconvert_exporter": "python",
   "pygments_lexer": "ipython3",
   "version": "3.12.4"
  }
 },
 "nbformat": 4,
 "nbformat_minor": 5
}
